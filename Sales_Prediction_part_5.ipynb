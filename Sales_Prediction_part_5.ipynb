{
  "nbformat": 4,
  "nbformat_minor": 0,
  "metadata": {
    "colab": {
      "provenance": [],
      "authorship_tag": "ABX9TyPNfBYFQZ/C5zHLjZd1FbQ0",
      "include_colab_link": true
    },
    "kernelspec": {
      "name": "python3",
      "display_name": "Python 3"
    },
    "language_info": {
      "name": "python"
    }
  },
  "cells": [
    {
      "cell_type": "markdown",
      "metadata": {
        "id": "view-in-github",
        "colab_type": "text"
      },
      "source": [
        "<a href=\"https://colab.research.google.com/github/Soichiro-Gardinner/Prediction-of-Grocery-Sales/blob/main/Sales_Prediction_part_5.ipynb\" target=\"_parent\"><img src=\"https://colab.research.google.com/assets/colab-badge.svg\" alt=\"Open In Colab\"/></a>"
      ]
    },
    {
      "cell_type": "markdown",
      "source": [
        "# Sales Prediction [pt 5]\n",
        "- **By:** Oscar Castanaza"
      ],
      "metadata": {
        "id": "MJAFU5zpNqCd"
      }
    },
    {
      "cell_type": "code",
      "source": [
        "#Importin Libraries\n",
        "import pandas as pd"
      ],
      "metadata": {
        "id": "zw-1GIOoOHvw"
      },
      "execution_count": 2,
      "outputs": []
    },
    {
      "cell_type": "code",
      "source": [
        "# Saving Data in df:\n",
        "df = pd.read_csv(\"/content/Sales Pred [Week(2)].csv\")"
      ],
      "metadata": {
        "id": "dRA8n6bJOEmQ"
      },
      "execution_count": 3,
      "outputs": []
    },
    {
      "cell_type": "markdown",
      "source": [
        "#**Fix inconsistencies in categorical data**\n",
        "\n",
        "1.Before splitting the data, we can check for duplicates and fix inconsistencies in categorical data. \n",
        "\n",
        "**For example**, we can check the unique values of the 'Item_Fat_Content' column to see if there are any inconsistencies**:**"
      ],
      "metadata": {
        "id": "4wZFt45nOnI7"
      }
    },
    {
      "cell_type": "code",
      "execution_count": 4,
      "metadata": {
        "colab": {
          "base_uri": "https://localhost:8080/"
        },
        "id": "uPCRv7rWNl9u",
        "outputId": "4def99f5-73c1-47b3-9a00-ea098f6d0c4a"
      },
      "outputs": [
        {
          "output_type": "execute_result",
          "data": {
            "text/plain": [
              "array(['Low Fat', 'Regular', 'low fat', 'LF', 'reg'], dtype=object)"
            ]
          },
          "metadata": {},
          "execution_count": 4
        }
      ],
      "source": [
        "df['Item_Fat_Content'].unique()"
      ]
    },
    {
      "cell_type": "markdown",
      "source": [
        "**_ _ _ _ _ _ _ _ _ _ _ _ _ _ _ _ _ _ _ _ _ _**\n",
        "\n",
        "**We can see that there are inconsistencies in the naming of the categories.**\n",
        "\n",
        "We can fix this by replacing 'LF' and 'low fat' with 'Low Fat', and 'reg' with 'Regular':"
      ],
      "metadata": {
        "id": "oY1tdLFgPVMV"
      }
    },
    {
      "cell_type": "code",
      "source": [
        "df['Item_Fat_Content'] = df['Item_Fat_Content'].replace({'LF': 'Low Fat', 'low fat': 'Low Fat', 'reg': 'Regular'})"
      ],
      "metadata": {
        "id": "Zk7ybO-mPxlM"
      },
      "execution_count": 5,
      "outputs": []
    },
    {
      "cell_type": "markdown",
      "source": [
        "**_ _ _ _ _ _ _ _ _ _ _ _ _ _ _ _ _ _ _ _ _**\n",
        "\n",
        "We can also **drop duplicates** using the drop_duplicates() method:"
      ],
      "metadata": {
        "id": "b3KYrPeGP1NF"
      }
    },
    {
      "cell_type": "code",
      "source": [
        "df = df.drop_duplicates()"
      ],
      "metadata": {
        "id": "ZV3eopJOQROM"
      },
      "execution_count": 6,
      "outputs": []
    },
    {
      "cell_type": "markdown",
      "source": [
        "**_ _ _ _ _ _ _ _ _ _ _ _ _ _ _ _ _ _ _ _**\n",
        "\n",
        "# **Features_[X] & Target_[y]**\n",
        "\n",
        "To identify the **features (X**) and **target (y)**, we can assign the **'Item_Outlet_Sales'** column as the target and the rest of the relevant variables as the features matrix:"
      ],
      "metadata": {
        "id": "mCaBpgWCQjwj"
      }
    },
    {
      "cell_type": "code",
      "source": [
        "# Features:\n",
        "X = df.drop(['Item_Outlet_Sales'], axis=1)\n",
        "# Target:\n",
        "y = df['Item_Outlet_Sales']"
      ],
      "metadata": {
        "id": "Mk4juAtZRNSH"
      },
      "execution_count": 9,
      "outputs": []
    },
    {
      "cell_type": "markdown",
      "source": [
        "**_ _ _ _ _ _ _ _ _ _ _ _ _ _ _ _ _ _ _ _ _**\n",
        "\n",
        "We can perform a **train-test-split** using the **train_test_split()** unction from Scikit-Learn**:**"
      ],
      "metadata": {
        "id": "UIqShqw5RS2_"
      }
    },
    {
      "cell_type": "code",
      "source": [
        "# Importing the t_t_S:\n",
        "from sklearn.model_selection import train_test_split\n",
        "\n",
        "# Splitting the data:\n",
        "X_train, X_test, y_train, y_test = train_test_split(X, y, test_size=0.3, random_state=42)"
      ],
      "metadata": {
        "id": "2G8AUD6YRqk6"
      },
      "execution_count": 10,
      "outputs": []
    },
    {
      "cell_type": "markdown",
      "source": [
        "**_ _ _ _ _ _ _ _ _ _ _ _ _ _ _ _ _**\n",
        "\n",
        "To create a preprocessing object to prepare the dataset for machine learning, we can use Scikit-Learn's ColumnTransformer and Pipeline classes."
      ],
      "metadata": {
        "id": "xzDKIgD1SEdI"
      }
    },
    {
      "cell_type": "code",
      "source": [
        "from sklearn.compose import ColumnTransformer\n",
        "from sklearn.impute import SimpleImputer\n",
        "from sklearn.pipeline import Pipeline\n",
        "from sklearn.preprocessing import StandardScaler, OneHotEncoder\n",
        "\n",
        "# Defining numerical and categorical features\n",
        "num_features = ['Item_Weight', 'Item_Visibility', 'Item_MRP', 'Outlet_Establishment_Year']\n",
        "cat_features = ['Item_Identifier', 'Item_Fat_Content', 'Item_Type', 'Outlet_Identifier', 'Outlet_Size', 'Outlet_Location_Type', 'Outlet_Type']\n",
        "\n",
        "# Creating pipelines for numerical and categorical features\n",
        "num_pipeline = Pipeline([('imputer', SimpleImputer(strategy='mean')), ('scaler', StandardScaler())])\n",
        "cat_pipeline = Pipeline([('imputer', SimpleImputer(strategy='most_frequent')), ('onehot', OneHotEncoder(sparse=False, handle_unknown='ignore'))])\n",
        "\n",
        "# Using ColumnTransformer to combine the pipelines for numerical and categorical features\n",
        "preprocessor = ColumnTransformer(transformers=[('num', num_pipeline, num_features), ('cat', cat_pipeline, cat_features)])"
      ],
      "metadata": {
        "id": "9wGTRbG8Sb5S"
      },
      "execution_count": 11,
      "outputs": []
    },
    {
      "cell_type": "markdown",
      "source": [
        "# Note:\n",
        "- We can create separate pipelines for numerical and categorical features. \n",
        "\n",
        "- For numerical features, we will impute missing values using the mean strategy and scale the features using StandardScaler. \n",
        "- For categorical features, we will impute missing values using the most frequent strategy and one-hot encode the features using OneHotEncoder.\n",
        "\n"
      ],
      "metadata": {
        "id": "jbPeYqzOSxiP"
      }
    },
    {
      "cell_type": "markdown",
      "source": [
        "**_ _ _ _ _ _ _ _ _ _ _ _ _ _ _ _**\n",
        "\n",
        "We can then **fit** the preprocessor on the training data **and transform** both the training and test data using the fitted preprocessor:"
      ],
      "metadata": {
        "id": "bTTmtmvXTFV3"
      }
    },
    {
      "cell_type": "code",
      "source": [
        "# X Train:\n",
        "X_train_preprocessed = preprocessor.fit_transform(X_train)\n",
        "# X Test:\n",
        "X_test_preprocessed = preprocessor.transform(X_test)"
      ],
      "metadata": {
        "colab": {
          "base_uri": "https://localhost:8080/"
        },
        "id": "UA24Xm4ATE9Y",
        "outputId": "1837db91-0dda-4c14-dcfd-360f97fb3a2e"
      },
      "execution_count": 12,
      "outputs": [
        {
          "output_type": "stream",
          "name": "stderr",
          "text": [
            "/usr/local/lib/python3.9/dist-packages/sklearn/preprocessing/_encoders.py:868: FutureWarning: `sparse` was renamed to `sparse_output` in version 1.2 and will be removed in 1.4. `sparse_output` is ignored unless you leave `sparse` to its default value.\n",
            "  warnings.warn(\n"
          ]
        }
      ]
    },
    {
      "cell_type": "code",
      "source": [
        "# It Returns an array:\n",
        "print(X_train_preprocessed)"
      ],
      "metadata": {
        "colab": {
          "base_uri": "https://localhost:8080/"
        },
        "id": "Rj4E92ZqTsD0",
        "outputId": "7d75851c-57a0-4b9c-ee79-fafda884c574"
      },
      "execution_count": 14,
      "outputs": [
        {
          "output_type": "stream",
          "name": "stdout",
          "text": [
            "[[-1.23795688  1.6066808  -0.40189546 ...  0.          0.\n",
            "   0.        ]\n",
            " [ 1.61657069 -1.00844167 -0.61928426 ...  1.          0.\n",
            "   0.        ]\n",
            " [ 0.         -0.22706823 -0.20253536 ...  0.          0.\n",
            "   1.        ]\n",
            " ...\n",
            " [ 1.1064099  -0.91757329  1.5257291  ...  1.          0.\n",
            "   0.        ]\n",
            " [ 1.75894114 -0.22428724 -0.3811361  ...  1.          0.\n",
            "   0.        ]\n",
            " [ 0.80980479 -0.95575131 -0.73573148 ...  1.          0.\n",
            "   0.        ]]\n"
          ]
        }
      ]
    },
    {
      "cell_type": "markdown",
      "source": [
        "This Means that the code worked"
      ],
      "metadata": {
        "id": "FPm4-LhIT_tX"
      }
    }
  ]
}