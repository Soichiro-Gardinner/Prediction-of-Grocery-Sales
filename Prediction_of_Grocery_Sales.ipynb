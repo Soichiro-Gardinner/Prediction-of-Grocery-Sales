{
  "nbformat": 4,
  "nbformat_minor": 0,
  "metadata": {
    "colab": {
      "provenance": [],
      "authorship_tag": "ABX9TyMp5tCK8I8u0KB0WoLbAwTV",
      "include_colab_link": true
    },
    "kernelspec": {
      "name": "python3",
      "display_name": "Python 3"
    },
    "language_info": {
      "name": "python"
    }
  },
  "cells": [
    {
      "cell_type": "markdown",
      "metadata": {
        "id": "view-in-github",
        "colab_type": "text"
      },
      "source": [
        "<a href=\"https://colab.research.google.com/github/Soichiro-Gardinner/Prediction-of-Grocery-Sales/blob/main/Prediction_of_Grocery_Sales.ipynb\" target=\"_parent\"><img src=\"https://colab.research.google.com/assets/colab-badge.svg\" alt=\"Open In Colab\"/></a>"
      ]
    },
    {
      "cell_type": "markdown",
      "source": [
        "# **Prediction of Grocery Sales**"
      ],
      "metadata": {
        "id": "lyVpdivyVUzt"
      }
    },
    {
      "cell_type": "markdown",
      "source": [
        "- **Name :** Oscar Castanaza\n",
        "- **Last Updated :** March 2023"
      ],
      "metadata": {
        "id": "oV5_CHALVdVr"
      }
    },
    {
      "cell_type": "markdown",
      "source": [
        "## **Loading Data**"
      ],
      "metadata": {
        "id": "6XhpeZGmWD5t"
      }
    },
    {
      "cell_type": "markdown",
      "source": [
        "## **Data Cleaning**"
      ],
      "metadata": {
        "id": "hSp6KgxBWSJ1"
      }
    },
    {
      "cell_type": "markdown",
      "source": [
        "## **Exploratory Visualization**"
      ],
      "metadata": {
        "id": "MvPo82y6WZPh"
      }
    },
    {
      "cell_type": "markdown",
      "source": [
        "## **Explanatory Visualization**"
      ],
      "metadata": {
        "id": "SgpcXa8wWn9q"
      }
    }
  ]
}