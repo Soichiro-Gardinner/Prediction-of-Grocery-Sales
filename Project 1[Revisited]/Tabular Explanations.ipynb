{
 "cells": [
  {
   "cell_type": "code",
   "execution_count": null,
   "id": "635d1923",
   "metadata": {},
   "outputs": [],
   "source": [
    "import lime\n",
    "import lime.lime_tabular\n",
    "\n",
    "# Select example data for Lime Explanation\n",
    "example_data_1 = X_test.iloc[0]  # Replace 0 with the index of the first example you selected\n",
    "example_data_2 = X_test.iloc[1]  # Replace 1 with the index of the second example you selected\n",
    "\n",
    "# Create Lime Explainer\n",
    "lime_explainer = lime.lime_tabular.LimeTabularExplainer(X_train.values, feature_names = X_train.columns, class_names = ['Item_Outlet_Sales'])\n",
    "\n",
    "# Generate Lime Tabular Explanation for each example\n",
    "lime_explanation_1 = lime_explainer.explain_instance(example_data_1.values, loaded_rf_model.predict)\n",
    "lime_explanation_2 = lime_explainer.explain_instance(example_data_2.values, loaded_rf_model.predict)\n",
    "\n",
    "# Save Lime Tabular Explanation figures as .png files\n",
    "lime_explanation_1.save_to_file('lime_explanation_1.png')\n",
    "lime_explanation_2.save_to_file('lime_explanation_2.png')"
   ]
  }
 ],
 "metadata": {
  "kernelspec": {
   "display_name": "Python 3 (ipykernel)",
   "language": "python",
   "name": "python3"
  },
  "language_info": {
   "codemirror_mode": {
    "name": "ipython",
    "version": 3
   },
   "file_extension": ".py",
   "mimetype": "text/x-python",
   "name": "python",
   "nbconvert_exporter": "python",
   "pygments_lexer": "ipython3",
   "version": "3.9.15"
  },
  "toc": {
   "base_numbering": 1,
   "nav_menu": {},
   "number_sections": true,
   "sideBar": true,
   "skip_h1_title": false,
   "title_cell": "Table of Contents",
   "title_sidebar": "Contents",
   "toc_cell": false,
   "toc_position": {},
   "toc_section_display": true,
   "toc_window_display": false
  }
 },
 "nbformat": 4,
 "nbformat_minor": 5
}
