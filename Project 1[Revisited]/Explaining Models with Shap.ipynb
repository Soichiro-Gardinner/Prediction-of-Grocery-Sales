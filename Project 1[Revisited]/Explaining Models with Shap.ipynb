{
 "cells": [
  {
   "cell_type": "code",
   "execution_count": 1,
   "id": "608e91a8",
   "metadata": {},
   "outputs": [],
   "source": [
    "import joblib\n",
    "\n",
    "# Load the Random Forest model from the file\n",
    "loaded_rf_model = joblib.load('random_forest_model.joblib')"
   ]
  },
  {
   "cell_type": "code",
   "execution_count": 2,
   "id": "58121338",
   "metadata": {},
   "outputs": [
    {
     "ename": "NameError",
     "evalue": "name 'X_train_preprocessed' is not defined",
     "output_type": "error",
     "traceback": [
      "\u001b[1;31m---------------------------------------------------------------------------\u001b[0m",
      "\u001b[1;31mNameError\u001b[0m                                 Traceback (most recent call last)",
      "Cell \u001b[1;32mIn [2], line 3\u001b[0m\n\u001b[0;32m      1\u001b[0m \u001b[38;5;28;01mimport\u001b[39;00m \u001b[38;5;21;01mshap\u001b[39;00m\n\u001b[0;32m      2\u001b[0m \u001b[38;5;66;03m# Create a sample of your training data for SHAP explanation\u001b[39;00m\n\u001b[1;32m----> 3\u001b[0m X_shap \u001b[38;5;241m=\u001b[39m shap\u001b[38;5;241m.\u001b[39msample(\u001b[43mX_train_preprocessed\u001b[49m, \u001b[38;5;241m100\u001b[39m)  \n\u001b[0;32m      4\u001b[0m y_shap \u001b[38;5;241m=\u001b[39m y_train[:\u001b[38;5;241m100\u001b[39m]\n",
      "\u001b[1;31mNameError\u001b[0m: name 'X_train_preprocessed' is not defined"
     ]
    }
   ],
   "source": [
    "import shap\n",
    "# Create a sample of your training data for SHAP explanation\n",
    "X_shap = shap.sample(X_train_preprocessed, 100)  \n",
    "y_shap = y_train[:100]  # Corresponding target values for the samples"
   ]
  },
  {
   "cell_type": "code",
   "execution_count": null,
   "id": "6c053afd",
   "metadata": {},
   "outputs": [],
   "source": [
    "# Create a model explainer\n",
    "explainer = shap.TreeExplainer(loaded_rf_model)"
   ]
  },
  {
   "cell_type": "code",
   "execution_count": null,
   "id": "7e22bbae",
   "metadata": {},
   "outputs": [],
   "source": [
    "# Calculate the SHAP values for your model using the explainer\n",
    "shap_values = explainer.shap_values(X_shap)"
   ]
  },
  {
   "cell_type": "code",
   "execution_count": null,
   "id": "ceca89a9",
   "metadata": {},
   "outputs": [],
   "source": [
    "# Display your saved feature importance image and compare the most important features according to SHAP vs. your original feature importances.\n",
    "plt.figure(figsize=(10, 8))\n",
    "importances.nlargest(10).plot(kind='barh', color='green')\n",
    "plt.xlabel('Feature Importance')\n",
    "plt.ylabel('Feature Names')\n",
    "plt.title('Top 10 Feature Importances for Random Forest Regressor')\n",
    "plt.savefig('random_forest_feature_importances.png')"
   ]
  },
  {
   "cell_type": "code",
   "execution_count": null,
   "id": "eb351334",
   "metadata": {},
   "outputs": [],
   "source": [
    "# Create a summary plot with plot_type='dot'\n",
    "shap.summary_plot(shap_values, X_shap, plot_type='dot')\n",
    "plt.savefig('shap_summary_plot_dot.png')"
   ]
  },
  {
   "cell_type": "code",
   "execution_count": null,
   "id": "3c113428",
   "metadata": {},
   "outputs": [],
   "source": [
    "# Get the feature names for the top 3 most important features\n",
    "top_3_features = importances.nlargest(3).index\n",
    "\n",
    "# Get the corresponding SHAP values for the top 3 features\n",
    "shap_values_top_3 = shap_values[:, importances.nlargest(3).index]\n",
    "\n",
    "# Summarize the impact of the top 3 features on model predictions\n",
    "shap.summary_plot(shap_values_top_3, X_shap, plot_type='bar', feature_names=top_3_features)\n",
    "plt.savefig('shap_summary_plot_top_3.png')"
   ]
  }
 ],
 "metadata": {
  "kernelspec": {
   "display_name": "Python (dojo-env)",
   "language": "python",
   "name": "dojo-env"
  },
  "language_info": {
   "codemirror_mode": {
    "name": "ipython",
    "version": 3
   },
   "file_extension": ".py",
   "mimetype": "text/x-python",
   "name": "python",
   "nbconvert_exporter": "python",
   "pygments_lexer": "ipython3",
   "version": "3.9.15"
  },
  "toc": {
   "base_numbering": 1,
   "nav_menu": {},
   "number_sections": true,
   "sideBar": true,
   "skip_h1_title": false,
   "title_cell": "Table of Contents",
   "title_sidebar": "Contents",
   "toc_cell": false,
   "toc_position": {},
   "toc_section_display": true,
   "toc_window_display": false
  }
 },
 "nbformat": 4,
 "nbformat_minor": 5
}
